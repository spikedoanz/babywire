{
 "cells": [
  {
   "cell_type": "code",
   "execution_count": 1,
   "id": "20374417-9698-4011-8763-8fce8062e678",
   "metadata": {},
   "outputs": [
    {
     "name": "stdout",
     "output_type": "stream",
     "text": [
      "No documents found in the collection, exiting\n"
     ]
    },
    {
     "ename": "TypeError",
     "evalue": "'NoneType' object is not subscriptable",
     "output_type": "error",
     "traceback": [
      "\u001b[0;31m---------------------------------------------------------------------------\u001b[0m",
      "\u001b[0;31mTypeError\u001b[0m                                 Traceback (most recent call last)",
      "Cell \u001b[0;32mIn[1], line 40\u001b[0m\n\u001b[1;32m     37\u001b[0m     \u001b[38;5;28mprint\u001b[39m(\u001b[38;5;124m\"\u001b[39m\u001b[38;5;124mNo documents found in the collection, exiting\u001b[39m\u001b[38;5;124m\"\u001b[39m)\n\u001b[1;32m     38\u001b[0m     exit()\n\u001b[0;32m---> 40\u001b[0m num_examples \u001b[38;5;241m=\u001b[39m \u001b[38;5;28mint\u001b[39m(\u001b[43mlast_post\u001b[49m\u001b[43m[\u001b[49m\u001b[43mINDEX_ID\u001b[49m\u001b[43m]\u001b[49m \u001b[38;5;241m+\u001b[39m \u001b[38;5;241m1\u001b[39m)\n\u001b[1;32m     41\u001b[0m \u001b[38;5;28mprint\u001b[39m(\u001b[38;5;124m\"\u001b[39m\u001b[38;5;124mNum examples \u001b[39m\u001b[38;5;124m\"\u001b[39m \u001b[38;5;241m+\u001b[39m \u001b[38;5;28mstr\u001b[39m(num_examples))\n\u001b[1;32m     43\u001b[0m dataset \u001b[38;5;241m=\u001b[39m MongoDataset(\n\u001b[1;32m     44\u001b[0m     indices\u001b[38;5;241m=\u001b[39m\u001b[38;5;28mrange\u001b[39m(num_examples),\n\u001b[1;32m     45\u001b[0m     transform\u001b[38;5;241m=\u001b[39mmytransform,\n\u001b[0;32m   (...)\u001b[0m\n\u001b[1;32m     49\u001b[0m     sample\u001b[38;5;241m=\u001b[39m(\u001b[38;5;124m\"\u001b[39m\u001b[38;5;124mimg\u001b[39m\u001b[38;5;124m\"\u001b[39m, \u001b[38;5;124m\"\u001b[39m\u001b[38;5;124mlab\u001b[39m\u001b[38;5;124m\"\u001b[39m),\n\u001b[1;32m     50\u001b[0m )\n",
      "\u001b[0;31mTypeError\u001b[0m: 'NoneType' object is not subscriptable"
     ]
    }
   ],
   "source": [
    "import torch\n",
    "import numpy as np\n",
    "import sys\n",
    "sys.path.append('/data/users1/mdoan4/babywire/gen_scripts/wirehead')\n",
    "import matplotlib.pyplot as plt\n",
    "from wirehead.mongoloader import MongoheadDataset\n",
    "from pymongo import MongoClient\n",
    "\n",
    "MONGOHOST = \"10.245.12.58\"\n",
    "DBNAME = \"babywire_test\"\n",
    "COLLECTION = \"read\"\n",
    "\n",
    "INDEX_ID = \"id\"\n",
    "\n",
    "volume_shape = [256] * 3\n",
    "subvolume_shape = [256] * 3\n",
    "\n",
    "def create_client_fn(x):\n",
    "    return create_client(x, dbname=DBNAME, colname=COLLECTION, mongohost=MONGOHOST)\n",
    "\n",
    "def mycollate_full(x):\n",
    "    return mcollate(x)\n",
    "\n",
    "def mytransform(x):\n",
    "    return mtransform(x)\n",
    "\n",
    "def identity(x):\n",
    "    return x\n",
    "\n",
    "client = MongoClient(\"mongodb://\" + MONGOHOST + \":27017\")\n",
    "db = client[DBNAME]\n",
    "posts = db[COLLECTION]\n",
    "\n",
    "last_post = posts['bin'].find_one(sort=[(INDEX_ID, -1)])\n",
    "\n",
    "if last_post is None:\n",
    "    print(\"No documents found in the collection, exiting\")\n",
    "    exit()\n",
    "\n",
    "num_examples = int(last_post[INDEX_ID] + 1)\n",
    "print(\"Num examples \" + str(num_examples))\n",
    "\n",
    "dataset = MongoDataset(\n",
    "    indices=range(num_examples),\n",
    "    transform=mytransform,\n",
    "    collection=posts,\n",
    "    id=INDEX_ID,\n",
    "    normalize=identity,\n",
    "    sample=(\"img\", \"lab\"),\n",
    ")\n",
    "\n",
    "# Get a single sample\n",
    "print(dataset)\n",
    "id = 10\n",
    "idx = [id]  # Change this to the desired sample index\n",
    "data = dataset[idx]\n",
    "sample, label = data[id]['input'], data[id]['label']\n",
    "# Plot the sample using matplotlib\n",
    "fig, (ax1, ax2) = plt.subplots(1, 2, figsize=(10, 5))\n",
    "\n",
    "slice = 175\n",
    "ax1.imshow(sample[slice, :, :], cmap='gray')\n",
    "ax1.set_title('T2w Image')\n",
    "ax1.axis('off')\n",
    "\n",
    "ax2.imshow(label[slice, :, :])\n",
    "ax2.set_title('Label')\n",
    "ax2.axis('off')\n",
    "\n",
    "plt.tight_layout()\n",
    "plt.show()"
   ]
  },
  {
   "cell_type": "code",
   "execution_count": null,
   "id": "d9b5015b-4bc0-4fa1-9741-b6ba50bed8ae",
   "metadata": {},
   "outputs": [],
   "source": []
  },
  {
   "cell_type": "code",
   "execution_count": null,
   "id": "5794a1c4-61d7-43c2-a551-27ee813140fc",
   "metadata": {},
   "outputs": [],
   "source": []
  }
 ],
 "metadata": {
  "kernelspec": {
   "display_name": "Python 3 (ipykernel)",
   "language": "python",
   "name": "python3"
  },
  "language_info": {
   "codemirror_mode": {
    "name": "ipython",
    "version": 3
   },
   "file_extension": ".py",
   "mimetype": "text/x-python",
   "name": "python",
   "nbconvert_exporter": "python",
   "pygments_lexer": "ipython3",
   "version": "3.8.18"
  }
 },
 "nbformat": 4,
 "nbformat_minor": 5
}
